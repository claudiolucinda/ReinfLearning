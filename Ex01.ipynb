{
  "nbformat": 4,
  "nbformat_minor": 0,
  "metadata": {
    "colab": {
      "name": "Ex01.ipynb",
      "provenance": [],
      "authorship_tag": "ABX9TyOtNj+2ulJV9VB3DMf4pdIb",
      "include_colab_link": true
    },
    "kernelspec": {
      "name": "python3",
      "display_name": "Python 3"
    }
  },
  "cells": [
    {
      "cell_type": "markdown",
      "metadata": {
        "id": "view-in-github",
        "colab_type": "text"
      },
      "source": [
        "<a href=\"https://colab.research.google.com/github/claudiolucinda/ReinfLearning/blob/master/Ex01.ipynb\" target=\"_parent\"><img src=\"https://colab.research.google.com/assets/colab-badge.svg\" alt=\"Open In Colab\"/></a>"
      ]
    },
    {
      "cell_type": "code",
      "metadata": {
        "id": "PWc-rkr_51UZ",
        "colab_type": "code",
        "colab": {}
      },
      "source": [
        "import gym\n",
        "import numpy as np\n",
        "from IPython.display import clear_output\n",
        "\n",
        "env = gym.make(\"FrozenLake-v0\")\n",
        "\n",
        "n_games=1000\n",
        "results_make=np.zeros((n_games))\n",
        "\n",
        "observation = env.reset()\n",
        "\n",
        "number=0\n",
        "\n",
        "while number<n_games:\n",
        "  env.render()\n",
        "  action = env.action_space.sample() # your agent here (this takes random actions)\n",
        "  observation, reward, done, info = env.step(action)\n",
        "  #print(action)\n",
        "  \n",
        "  if done:\n",
        "    if reward==0:\n",
        "      resultados=np.array(0)\n",
        "    else:\n",
        "      resultados=np.array(1)\n",
        "\n",
        "    resultados.shape=(1,)\n",
        "    print(reward)\n",
        "    #print(resultados)\n",
        "    #print(resultados.shape)\n",
        "    results_make[number]=resultados\n",
        "    #results_make=np.append(results_make,resultados,axis=0)\n",
        "    #print(results_make)\n",
        "    observation = env.reset()\n",
        "    number+=1\n",
        "    \n",
        "env.close()\n",
        "#print(results_make)\n",
        "rate_success=np.mean(results_make, axis=0)\n",
        "print(\"Rate of Success\")\n",
        "print(rate_success)"
      ],
      "execution_count": 0,
      "outputs": []
    }
  ]
}